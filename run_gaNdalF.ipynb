{
 "cells": [
  {
   "cell_type": "markdown",
   "id": "9098863544f9a41",
   "metadata": {},
   "source": [
    "# Import libraries"
   ]
  },
  {
   "cell_type": "code",
   "execution_count": 1,
   "id": "a78309042a2685b6",
   "metadata": {
    "collapsed": false,
    "ExecuteTime": {
     "end_time": "2024-02-14T07:48:40.536621Z",
     "start_time": "2024-02-14T07:48:39.784082Z"
    }
   },
   "outputs": [],
   "source": [
    "from datetime import datetime\n",
    "from Handler import *\n",
    "from gandalf import gaNdalF\n",
    "from sklearn.metrics import accuracy_score\n",
    "from scipy.stats import binned_statistic, median_abs_deviation\n",
    "import pandas as pd\n",
    "import numpy as np\n",
    "import seaborn as sns\n",
    "import torch\n",
    "import matplotlib.pyplot as plt\n",
    "import sys\n",
    "import yaml\n",
    "import os\n",
    "import joblib\n",
    "%matplotlib inline\n",
    "plt.rcParams[\"figure.figsize\"] = (16, 9)"
   ]
  },
  {
   "cell_type": "markdown",
   "source": [
    "# Add path to sys.path"
   ],
   "metadata": {
    "collapsed": false
   },
   "id": "af8b5acb1a9550d2"
  },
  {
   "cell_type": "code",
   "execution_count": 2,
   "id": "3531dfaa62d64c4c",
   "metadata": {
    "collapsed": false,
    "ExecuteTime": {
     "end_time": "2024-02-14T07:48:40.546193Z",
     "start_time": "2024-02-14T07:48:40.537831Z"
    }
   },
   "outputs": [],
   "source": [
    "current_dir = os.getcwd()\n",
    "sys.path.append(current_dir)\n",
    "path = os.path.abspath(sys.path[-1])"
   ]
  },
  {
   "cell_type": "markdown",
   "id": "7e42f8438d6ee6fb",
   "metadata": {},
   "source": [
    "# Load config file"
   ]
  },
  {
   "cell_type": "code",
   "execution_count": 3,
   "id": "3d207cd01fba8ead",
   "metadata": {
    "collapsed": false,
    "ExecuteTime": {
     "end_time": "2024-02-14T07:48:40.575747Z",
     "start_time": "2024-02-14T07:48:40.541276Z"
    }
   },
   "outputs": [
    {
     "name": "stdout",
     "output_type": "stream",
     "text": [
      "load mac config-file\n"
     ]
    }
   ],
   "source": [
    "if get_os() == \"Mac\":\n",
    "    print(\"load mac config-file\")\n",
    "    config_file_name = \"mac.cfg\"\n",
    "elif get_os() == \"Windows\":\n",
    "    print(\"load windows config-file\")\n",
    "    config_file_name = \"windows.cfg\"\n",
    "elif get_os() == \"Linux\":\n",
    "    print(\"load linux config-file\")\n",
    "    config_file_name = \"LMU.cfg\"\n",
    "else:\n",
    "    print(\"load default config-file\")\n",
    "    config_file_name = \"default.cfg\"\n",
    "\n",
    "with open(f\"{path}/conf/{config_file_name}\", 'r') as fp:\n",
    "    cfg = yaml.load(fp, Loader=yaml.SafeLoader)\n",
    "\n",
    "now = datetime.now()\n",
    "cfg['RUN_DATE'] = now.strftime('%Y-%m-%d_%H-%M')"
   ]
  },
  {
   "cell_type": "markdown",
   "id": "587640cff0677677",
   "metadata": {},
   "source": [
    "# Set output paths and create folders"
   ]
  },
  {
   "cell_type": "code",
   "execution_count": 4,
   "id": "d3b6ceb3610a5465",
   "metadata": {
    "collapsed": false,
    "ExecuteTime": {
     "end_time": "2024-02-14T07:48:40.696362Z",
     "start_time": "2024-02-14T07:48:40.682931Z"
    }
   },
   "outputs": [],
   "source": [
    "cfg['PATH_PLOTS_FOLDER'] = {}\n",
    "cfg['PATH_OUTPUT'] = f\"{cfg['PATH_OUTPUT']}/gandalf_run_{cfg['RUN_DATE']}\"\n",
    "cfg['PATH_PLOTS'] = f\"{cfg['PATH_OUTPUT']}/{cfg['FOLDER_PLOTS']}\"\n",
    "cfg['PATH_CATALOGS'] = f\"{cfg['PATH_OUTPUT']}/{cfg['FOLDER_CATALOGS']}\"\n",
    "if not os.path.exists(cfg['PATH_OUTPUT']):\n",
    "    os.mkdir(cfg['PATH_OUTPUT'])\n",
    "if not os.path.exists(cfg['PATH_PLOTS']):\n",
    "    os.mkdir(cfg['PATH_PLOTS'])\n",
    "if not os.path.exists(cfg['PATH_CATALOGS']):\n",
    "    os.mkdir(cfg['PATH_CATALOGS'])\n",
    "for plot in cfg['PLOTS_RUN']:\n",
    "    cfg[f'PATH_PLOTS_FOLDER'][plot.upper()] = f\"{cfg['PATH_PLOTS']}/{plot}\"\n",
    "    if not os.path.exists(cfg[f'PATH_PLOTS_FOLDER'][plot.upper()]):\n",
    "        os.mkdir(cfg[f'PATH_PLOTS_FOLDER'][plot.upper()])"
   ]
  },
  {
   "cell_type": "markdown",
   "id": "466e8ef9-9ab7-452b-a311-81dd45830118",
   "metadata": {},
   "source": [
    "# Define Functions"
   ]
  },
  {
   "cell_type": "code",
   "execution_count": 5,
   "id": "271ede44a19d8a8c",
   "metadata": {
    "collapsed": false,
    "ExecuteTime": {
     "end_time": "2024-02-14T07:48:40.854849Z",
     "start_time": "2024-02-14T07:48:40.843564Z"
    }
   },
   "outputs": [],
   "source": [
    "def apply_cuts(cfg, data_frame):\n",
    "    \"\"\"\"\"\"\n",
    "    data_frame = unsheared_object_cuts(data_frame=data_frame)\n",
    "    data_frame = flag_cuts(data_frame=data_frame)\n",
    "    data_frame = unsheared_shear_cuts(data_frame=data_frame)\n",
    "    data_frame = binary_cut(data_frame=data_frame)\n",
    "    # data_frame = mask_cut(data_frame=data_frame, master=f\"{cfg['PATH_DATA']}/{cfg['FILENAME_MASTER_CAT']}\")\n",
    "    data_frame = unsheared_mag_cut(data_frame=data_frame)\n",
    "    return data_frame"
   ]
  },
  {
   "cell_type": "markdown",
   "id": "a3efaeddc4fe7041",
   "metadata": {},
   "source": [
    "# Start gaNdalF"
   ]
  },
  {
   "cell_type": "code",
   "execution_count": 6,
   "id": "b7a985a056bb751b",
   "metadata": {
    "collapsed": false,
    "ExecuteTime": {
     "end_time": "2024-02-14T07:49:20.267477Z",
     "start_time": "2024-02-14T07:48:41.020717Z"
    }
   },
   "outputs": [
    {
     "name": "stdout",
     "output_type": "stream",
     "text": [
      "Load /Volumes/elmichelangelo_external_ssd_1/Data/gandalf_data_odet_ncuts_ndef_rnan_8612535.pkl  data set\n",
      "shape run dataset: (8612535, 125)\n",
      "Sample -1 random data from run data set\n",
      "Use yj_transformer_odet.joblib to transform data\n",
      "Use maxabsscaler_odet_mag_yj.joblib to scale data\n"
     ]
    }
   ],
   "source": [
    "gandalf = gaNdalF(cfg=cfg)"
   ]
  },
  {
   "cell_type": "code",
   "execution_count": 7,
   "id": "9cebfa09a6c0196",
   "metadata": {
    "collapsed": false,
    "ExecuteTime": {
     "end_time": "2024-02-14T07:49:20.280090Z",
     "start_time": "2024-02-14T07:49:20.269637Z"
    }
   },
   "outputs": [
    {
     "name": "stdout",
     "output_type": "stream",
     "text": [
      "Length sample dataset: 8612535\n"
     ]
    }
   ],
   "source": [
    "print(f\"Length sample dataset: {len(gandalf.run_loader.dataset)}\")"
   ]
  },
  {
   "cell_type": "code",
   "execution_count": 8,
   "id": "811ff8bf7ba63668",
   "metadata": {
    "collapsed": false,
    "ExecuteTime": {
     "end_time": "2024-02-14T07:52:03.053302Z",
     "start_time": "2024-02-14T07:49:20.271484Z"
    }
   },
   "outputs": [],
   "source": [
    "for batch_idx, data in enumerate(gandalf.run_loader):\n",
    "    tsr_input = data[0].double()\n",
    "    arr_flow_true_output = data[1].numpy()\n",
    "    arr_true_detected = data[2].numpy()\n",
    "    arr_cut_cols = data[3].numpy()"
   ]
  },
  {
   "cell_type": "code",
   "execution_count": 9,
   "id": "4d0ed90acd80f1f2",
   "metadata": {
    "collapsed": false,
    "ExecuteTime": {
     "end_time": "2024-02-14T07:52:04.518217Z",
     "start_time": "2024-02-14T07:52:03.054248Z"
    }
   },
   "outputs": [],
   "source": [
    "df_balrog = pd.DataFrame(\n",
    "    np.concatenate((tsr_input.numpy(), arr_flow_true_output, arr_true_detected, arr_cut_cols), axis=1),\n",
    "    columns=cfg[f'INPUT_COLS_{gandalf.lum_type}_RUN'] +\n",
    "            cfg[f'OUTPUT_COLS_{gandalf.lum_type}_RUN'] +\n",
    "            cfg[f'OUTPUT_COLS_CLASSF_RUN'] +\n",
    "            cfg[f'CUT_COLS_RUN']\n",
    ")"
   ]
  },
  {
   "cell_type": "code",
   "execution_count": 10,
   "id": "e43670ded6976a4c",
   "metadata": {
    "collapsed": false,
    "ExecuteTime": {
     "end_time": "2024-02-14T07:52:04.530175Z",
     "start_time": "2024-02-14T07:52:04.523870Z"
    }
   },
   "outputs": [],
   "source": [
    "if cfg['CLASSF_GALAXIES'] is True:\n",
    "    with torch.no_grad():\n",
    "        arr_classf_gandalf_output = gandalf.gandalf_classifier(tsr_input).squeeze().numpy()\n",
    "    arr_gandalf_prob_calib = gandalf.predict_calibrated(arr_classf_gandalf_output)\n",
    "    arr_gandalf_detected_calib = arr_gandalf_prob_calib > np.random.rand(cfg['NUMBER_SAMPLES'])\n",
    "    validation_accuracy = accuracy_score(arr_true_detected, arr_gandalf_detected_calib)\n",
    "    gandalf_detected = np.count_nonzero(arr_gandalf_detected_calib)\n",
    "    gandalf_not_detected = arr_gandalf_detected_calib.size - gandalf_detected\n",
    "    balrog_detected = np.count_nonzero(arr_true_detected)\n",
    "    balrog_not_detected = arr_true_detected.size - balrog_detected\n",
    "\n",
    "    arr_masked_input = tsr_input.numpy()[arr_gandalf_detected_calib]\n",
    "    arr_masked_output = arr_flow_true_output[arr_gandalf_detected_calib]\n",
    "    arr_masked_cut_cols = arr_cut_cols[arr_gandalf_detected_calib]\n",
    "    df_balrog_all = df_balrog[cfg[f'INPUT_COLS_{gandalf.lum_type}_RUN'] +\n",
    "                              cfg[f'OUTPUT_COLS_{gandalf.lum_type}_RUN']]\n",
    "    df_gandalf_all = pd.DataFrame(np.concatenate((tsr_input.numpy(), arr_flow_true_output), axis=1),\n",
    "                                  columns=cfg[f'INPUT_COLS_{gandalf.lum_type}_RUN'] +\n",
    "                                          cfg[f'OUTPUT_COLS_{gandalf.lum_type}_RUN'])\n",
    "    # df_balrog_true = df_balrog[arr_true_detected.astype(bool)]\n",
    "    # df_balrog_true = df_balrog_true[self.cfg[f'INPUT_COLS_{self.lum_type}_RUN'] + self.cfg[f'OUTPUT_COLS_{self.lum_type}_RUN']]\n",
    "    df_balrog_all.reset_index(drop=True, inplace=True)\n",
    "    df_gandalf_all.reset_index(drop=True, inplace=True)\n",
    "\n",
    "    df_balrog = df_balrog[arr_gandalf_detected_calib]\n",
    "    df_balrog = df_balrog[cfg[f'INPUT_COLS_{gandalf.lum_type}_RUN'] + cfg[f'OUTPUT_COLS_{gandalf.lum_type}_RUN']]\n",
    "    df_balrog.reset_index(drop=True, inplace=True)\n",
    "\n",
    "    df_flow_input = pd.DataFrame(\n",
    "        np.concatenate((arr_masked_input, arr_masked_output), axis=1),\n",
    "        columns=cfg[f'INPUT_COLS_{gandalf.lum_type}_RUN'] + cfg[f'OUTPUT_COLS_{gandalf.lum_type}_RUN']\n",
    "    )\n",
    "\n",
    "    if cfg['APPLY_SCALER_CLASSF_RUN'] is True:\n",
    "        df_flow_input = gandalf.galaxies.inverse_scale_data(df_flow_input)\n",
    "        df_balrog = gandalf.galaxies.inverse_scale_data(df_balrog)\n",
    "        # df_balrog_true = self.galaxies.inverse_scale_data(df_balrog_true)\n",
    "        df_balrog_all = gandalf.galaxies.inverse_scale_data(df_balrog_all)\n",
    "        df_gandalf_all = gandalf.galaxies.inverse_scale_data(df_gandalf_all)\n",
    "\n",
    "    if cfg['APPLY_YJ_TRANSFORM_CLASSF_RUN'] is True:\n",
    "        if cfg['TRANSFORM_COLS_RUN'] is None:\n",
    "            trans_col = df_flow_input.keys()\n",
    "        else:\n",
    "            trans_col = cfg['TRANSFORM_COLS_RUN']\n",
    "        df_flow_input = gandalf.galaxies.yj_inverse_transform_data(\n",
    "            data_frame=df_flow_input,\n",
    "            columns=trans_col\n",
    "        )\n",
    "        df_balrog = gandalf.galaxies.yj_inverse_transform_data(\n",
    "            data_frame=df_balrog,\n",
    "            columns=trans_col\n",
    "        )\n",
    "        # df_balrog_true = self.galaxies.yj_inverse_transform_data(\n",
    "        #     data_frame=df_balrog_true,\n",
    "        #     columns=trans_col\n",
    "        # )\n",
    "        df_balrog_all = gandalf.galaxies.yj_inverse_transform_data(\n",
    "            data_frame=df_balrog_all,\n",
    "            columns=trans_col\n",
    "        )\n",
    "        df_gandalf_all = gandalf.galaxies.yj_inverse_transform_data(\n",
    "            data_frame=df_gandalf_all,\n",
    "            columns=trans_col\n",
    "        )\n",
    "\n",
    "    print(f\"Accuracy sample: {validation_accuracy * 100.0:.2f}%\")\n",
    "    print(f\"Number of NOT true_detected galaxies gandalf: {gandalf_not_detected} of {cfg['NUMBER_SAMPLES']}\")\n",
    "    print(f\"Number of true_detected galaxies gandalf: {gandalf_detected} of {cfg['NUMBER_SAMPLES']}\")\n",
    "    print(f\"Number of NOT true_detected galaxies balrog: {balrog_not_detected} of {cfg['NUMBER_SAMPLES']}\")\n",
    "    print(f\"Number of true_detected galaxies balrog: {balrog_detected} of {cfg['NUMBER_SAMPLES']}\")\n",
    "\n",
    "    df_classf_plot = pd.DataFrame({\n",
    "        \"gandalf_detected\": arr_gandalf_detected_calib.ravel(),\n",
    "        \"balrog_detected\": arr_true_detected.ravel(),\n",
    "    })\n",
    "\n",
    "    df_balrog_all[\"true_detected\"] = arr_true_detected\n",
    "    df_gandalf_all[\"true_detected\"] = arr_gandalf_detected_calib\n",
    "    df_gandalf_all[\"probability\"] = arr_gandalf_prob_calib"
   ]
  },
  {
   "cell_type": "code",
   "execution_count": 11,
   "id": "dd6f97643c680840",
   "metadata": {
    "collapsed": false,
    "ExecuteTime": {
     "end_time": "2024-02-14T07:52:04.531456Z",
     "start_time": "2024-02-14T07:52:04.526549Z"
    }
   },
   "outputs": [
    {
     "name": "stdout",
     "output_type": "stream",
     "text": [
      "Start plotting classf data\n"
     ]
    }
   ],
   "source": [
    "# if cfg['CLASSF_GALAXIES'] is True:\n",
    "#     gandalf.plot_classf_data(df_classf_plot=df_classf_plot, df_balrog=df_balrog_all, df_gandalf=df_gandalf_all)\n",
    "    \n",
    "print(\"Start plotting classf data\")\n",
    "if cfg['CLASSF_GALAXIES'] is True:\n",
    "    if cfg['PLOT_MATRIX_RUN'] is True:\n",
    "        plot_confusion_matrix_gandalf(\n",
    "            df_classf_plot=df_classf_plot,\n",
    "            show_plot=cfg['SHOW_PLOT_RUN'],\n",
    "            save_plot=cfg['SAVE_PLOT_RUN'],\n",
    "            save_name=f\"{cfg['PATH_PLOTS_FOLDER'][f'CONFUSION_MATRIX']}/confusion_matrix.png\",\n",
    "            title=f\"Confusion Matrix\"\n",
    "    )"
   ]
  },
  {
   "cell_type": "code",
   "execution_count": 12,
   "id": "9869fe129eef6da4",
   "metadata": {
    "collapsed": false,
    "ExecuteTime": {
     "end_time": "2024-02-14T07:52:04.533527Z",
     "start_time": "2024-02-14T07:52:04.529859Z"
    }
   },
   "outputs": [],
   "source": [
    "if cfg['CLASSF_GALAXIES'] is True:\n",
    "    if cfg['PLOT_CALIBRATION_CURVE'] is True:\n",
    "        plot_calibration_curve_gandalf(\n",
    "            true_detected=df_balrog_all[\"true_detected\"],\n",
    "            probability=df_gandalf_all[\"probability\"],\n",
    "            n_bins=10,\n",
    "            show_plot=cfg['SHOW_PLOT_RUN'],\n",
    "            save_plot=cfg['SAVE_PLOT_RUN'],\n",
    "            save_name=f\"{cfg['PATH_PLOTS_FOLDER'][f'CALIBRATION_CURVE']}/calibration_curve.png\",\n",
    "            title=f\"Calibration Curve\"\n",
    "        )"
   ]
  },
  {
   "cell_type": "code",
   "execution_count": 13,
   "id": "e325f3aeebb4e3cb",
   "metadata": {
    "collapsed": false,
    "ExecuteTime": {
     "end_time": "2024-02-14T07:52:04.536364Z",
     "start_time": "2024-02-14T07:52:04.532692Z"
    }
   },
   "outputs": [],
   "source": [
    "# ROC und AUC\n",
    "if cfg['CLASSF_GALAXIES'] is True:\n",
    "    if cfg['PLOT_ROC_CURVE_RUN'] is True:\n",
    "        plot_roc_curve_gandalf(\n",
    "            data_frame=df_classf_plot,\n",
    "            show_plot=cfg['SHOW_PLOT_RUN'],\n",
    "            save_plot=cfg['SAVE_PLOT_RUN'],\n",
    "            save_name=f\"{cfg['PATH_PLOTS_FOLDER'][f'ROC_CURVE']}/roc_curve.png\",\n",
    "            title=f\"Receiver Operating Characteristic (ROC) Curve\"\n",
    "        )"
   ]
  },
  {
   "cell_type": "code",
   "execution_count": 14,
   "id": "90b3c1e282b217a1",
   "metadata": {
    "collapsed": false,
    "ExecuteTime": {
     "end_time": "2024-02-14T07:52:04.538242Z",
     "start_time": "2024-02-14T07:52:04.535036Z"
    }
   },
   "outputs": [],
   "source": [
    "if cfg['CLASSF_GALAXIES'] is True:\n",
    "    if cfg['PLOT_CLASSF_HISTOGRAM'] is True:\n",
    "        plot_classifier_histogram(\n",
    "            df_balrog=df_balrog_all,\n",
    "            df_gandalf=df_gandalf_all,\n",
    "            columns=cfg[\"INPUT_COLS_MAG_RUN\"],\n",
    "            show_plot=cfg['SHOW_PLOT_RUN'],\n",
    "            save_plot=cfg['SAVE_PLOT_RUN'],\n",
    "            save_name=f\"{cfg['PATH_PLOTS_FOLDER'][f'CLASSF_HIST']}/All.png\",\n",
    "            title=f\"All\"\n",
    "        )"
   ]
  },
  {
   "cell_type": "code",
   "execution_count": 15,
   "id": "6a643225cba4782",
   "metadata": {
    "collapsed": false,
    "ExecuteTime": {
     "end_time": "2024-02-14T07:52:04.551777Z",
     "start_time": "2024-02-14T07:52:04.538925Z"
    }
   },
   "outputs": [],
   "source": [
    "if cfg['CLASSF_GALAXIES'] is True:\n",
    "    if cfg['PLOT_CLASSF_HISTOGRAM'] is True:\n",
    "        plot_classifier_histogram(\n",
    "            df_balrog=df_balrog_all,\n",
    "            df_gandalf=df_gandalf_all,\n",
    "            columns=[\"BDF_MAG_DERED_CALIB_R\", \"BDF_MAG_DERED_CALIB_I\", \"BDF_MAG_DERED_CALIB_Z\"],\n",
    "            show_plot=cfg['SHOW_PLOT_RUN'],\n",
    "            save_plot=cfg['SAVE_PLOT_RUN'],\n",
    "            save_name=f\"{cfg['PATH_PLOTS_FOLDER'][f'CLASSF_HIST']}/magnitude.png\",\n",
    "            title=f\"magnitude\"\n",
    "        )"
   ]
  },
  {
   "cell_type": "code",
   "execution_count": 16,
   "id": "3c10b4093c4cae9e",
   "metadata": {
    "collapsed": false,
    "ExecuteTime": {
     "end_time": "2024-02-14T07:52:04.552713Z",
     "start_time": "2024-02-14T07:52:04.541613Z"
    }
   },
   "outputs": [],
   "source": [
    "if cfg['CLASSF_GALAXIES'] is True:\n",
    "    if cfg['PLOT_CLASSF_HISTOGRAM'] is True:\n",
    "        plot_classifier_histogram(\n",
    "            df_balrog=df_balrog_all,\n",
    "            df_gandalf=df_gandalf_all,\n",
    "            columns=[\"BDF_MAG_ERR_DERED_CALIB_R\", \"BDF_MAG_ERR_DERED_CALIB_I\", \"BDF_MAG_ERR_DERED_CALIB_Z\"],\n",
    "            show_plot=cfg['SHOW_PLOT_RUN'],\n",
    "            save_plot=cfg['SAVE_PLOT_RUN'],\n",
    "            save_name=f\"{cfg['PATH_PLOTS_FOLDER'][f'CLASSF_HIST']}/magnitude_error.png\",\n",
    "            title=f\"magnitude_error\"\n",
    "        )"
   ]
  },
  {
   "cell_type": "code",
   "execution_count": 17,
   "id": "128eaa0ba18372b7",
   "metadata": {
    "collapsed": false,
    "ExecuteTime": {
     "end_time": "2024-02-14T07:52:04.576099Z",
     "start_time": "2024-02-14T07:52:04.544260Z"
    }
   },
   "outputs": [],
   "source": [
    "if cfg['CLASSF_GALAXIES'] is True:\n",
    "    if cfg['PLOT_CLASSF_HISTOGRAM'] is True:\n",
    "        plot_classifier_histogram(\n",
    "            df_balrog=df_balrog_all,\n",
    "            df_gandalf=df_gandalf_all,\n",
    "            columns=[\"Color BDF MAG U-G\", \"Color BDF MAG G-R\", \"Color BDF MAG R-I\", \"Color BDF MAG I-Z\", \"Color BDF MAG Z-J\", \"Color BDF MAG J-H\", \"Color BDF MAG H-K\"],\n",
    "            show_plot=cfg['SHOW_PLOT_RUN'],\n",
    "            save_plot=cfg['SAVE_PLOT_RUN'],\n",
    "            save_name=f\"{cfg['PATH_PLOTS_FOLDER'][f'CLASSF_HIST']}/Color.png\",\n",
    "            title=f\"color\"\n",
    "        )"
   ]
  },
  {
   "cell_type": "code",
   "execution_count": 18,
   "id": "5dd7389d42093ff7",
   "metadata": {
    "collapsed": false,
    "ExecuteTime": {
     "end_time": "2024-02-14T07:52:04.577005Z",
     "start_time": "2024-02-14T07:52:04.547228Z"
    }
   },
   "outputs": [],
   "source": [
    "if cfg['CLASSF_GALAXIES'] is True:\n",
    "    if cfg['PLOT_CLASSF_HISTOGRAM'] is True:\n",
    "        plot_classifier_histogram(\n",
    "            df_balrog=df_balrog_all,\n",
    "            df_gandalf=df_gandalf_all,\n",
    "            columns=[\"BDF_T\", \"BDF_G\", \"EBV_SFD98\"],\n",
    "            show_plot=cfg['SHOW_PLOT_RUN'],\n",
    "            save_plot=cfg['SAVE_PLOT_RUN'],\n",
    "            save_name=f\"{cfg['PATH_PLOTS_FOLDER'][f'CLASSF_HIST']}/shape_and_dust.png\",\n",
    "            title=f\"shape_and_dust\"\n",
    "        )"
   ]
  },
  {
   "cell_type": "code",
   "execution_count": 19,
   "id": "651337b89b786724",
   "metadata": {
    "collapsed": false,
    "ExecuteTime": {
     "end_time": "2024-02-14T07:52:04.578235Z",
     "start_time": "2024-02-14T07:52:04.549939Z"
    }
   },
   "outputs": [],
   "source": [
    "if cfg['CLASSF_GALAXIES'] is True:\n",
    "    if cfg['PLOT_CLASSF_HISTOGRAM'] is True:\n",
    "        plot_classifier_histogram(\n",
    "            df_balrog=df_balrog_all,\n",
    "            df_gandalf=df_gandalf_all,\n",
    "            columns=[\"FWHM_WMEAN_R\", \"FWHM_WMEAN_I\", \"FWHM_WMEAN_Z\"],\n",
    "            show_plot=cfg['SHOW_PLOT_RUN'],\n",
    "            save_plot=cfg['SAVE_PLOT_RUN'],\n",
    "            save_name=f\"{cfg['PATH_PLOTS_FOLDER'][f'CLASSF_HIST']}/FWHM.png\",\n",
    "            title=f\"FWHM\"\n",
    "        )"
   ]
  },
  {
   "cell_type": "code",
   "execution_count": 20,
   "id": "9bf4573d279b30ff",
   "metadata": {
    "collapsed": false,
    "ExecuteTime": {
     "end_time": "2024-02-14T07:52:04.580547Z",
     "start_time": "2024-02-14T07:52:04.552720Z"
    }
   },
   "outputs": [],
   "source": [
    "if cfg['CLASSF_GALAXIES'] is True:\n",
    "    if cfg['PLOT_CLASSF_HISTOGRAM'] is True:\n",
    "        plot_classifier_histogram(\n",
    "            df_balrog=df_balrog_all,\n",
    "            df_gandalf=df_gandalf_all,\n",
    "            columns=[\"AIRMASS_WMEAN_R\", \"AIRMASS_WMEAN_I\", \"AIRMASS_WMEAN_Z\"],\n",
    "            show_plot=cfg['SHOW_PLOT_RUN'],\n",
    "            save_plot=cfg['SAVE_PLOT_RUN'],\n",
    "            save_name=f\"{cfg['PATH_PLOTS_FOLDER'][f'CLASSF_HIST']}/AIRMASS.png\",\n",
    "            title=f\"AIRMASS\"\n",
    "        )"
   ]
  },
  {
   "cell_type": "code",
   "execution_count": 21,
   "id": "95cbab9fbc1d4ea4",
   "metadata": {
    "collapsed": false,
    "ExecuteTime": {
     "end_time": "2024-02-14T07:52:04.594896Z",
     "start_time": "2024-02-14T07:52:04.555192Z"
    }
   },
   "outputs": [],
   "source": [
    "if cfg['CLASSF_GALAXIES'] is True:\n",
    "    if cfg['PLOT_CLASSF_HISTOGRAM'] is True:\n",
    "        plot_classifier_histogram(\n",
    "            df_balrog=df_balrog_all,\n",
    "            df_gandalf=df_gandalf_all,\n",
    "            columns=[\"MAGLIM_R\", \"MAGLIM_I\", \"MAGLIM_Z\"],\n",
    "            show_plot=cfg['SHOW_PLOT_RUN'],\n",
    "            save_plot=cfg['SAVE_PLOT_RUN'],\n",
    "            save_name=f\"{cfg['PATH_PLOTS_FOLDER'][f'CLASSF_HIST']}/MAGLIM.png\",\n",
    "            title=f\"MAGLIM\"\n",
    "        )"
   ]
  },
  {
   "cell_type": "code",
   "execution_count": 22,
   "id": "8f0a33d0-d8a0-4966-91a6-cb6585ccbc04",
   "metadata": {
    "collapsed": false,
    "ExecuteTime": {
     "end_time": "2024-02-14T07:52:06.324147Z",
     "start_time": "2024-02-14T07:52:05.431445Z"
    }
   },
   "outputs": [],
   "source": [
    "if cfg['EMULATE_GALAXIES'] is True:\n",
    "    if cfg['CLASSF_GALAXIES'] is True:\n",
    "        if cfg['APPLY_YJ_TRANSFORM_FLOW_RUN'] is True:\n",
    "            gandalf.galaxies.applied_yj_transform = \"_YJ\"\n",
    "        else:\n",
    "            gandalf.galaxies.applied_yj_transform = \"\"\n",
    "        if cfg['APPLY_SCALER_FLOW_RUN'] is True:\n",
    "            gandalf.galaxies.applied_yj_transform = \"_YJ\"\n",
    "        else:\n",
    "            gandalf.galaxies.applied_yj_transform = \"\"\n",
    "        filename = cfg[f'FILENAME_SCALER_ODET_{gandalf.lum_type}{gandalf.galaxies.applied_yj_transform}']\n",
    "        gandalf.galaxies.scaler = joblib.load(\n",
    "            f\"{cfg['PATH_TRANSFORMERS']}/{filename}\"\n",
    "        )\n",
    "        gandalf.galaxies.name_scaler = filename\n",
    "\n",
    "        gandalf.galaxies.dict_pt = joblib.load(\n",
    "            f\"{cfg['PATH_TRANSFORMERS']}/{cfg['FILENAME_YJ_TRANSFORMER_ODET']}\"\n",
    "        )\n",
    "        gandalf.galaxies.name_yj_transformer = cfg['FILENAME_YJ_TRANSFORMER_ODET']\n",
    "\n",
    "        if cfg['APPLY_YJ_TRANSFORM_FLOW_RUN'] is True:\n",
    "            df_flow_input = gandalf.galaxies.yj_transform_data_on_fly(\n",
    "                data_frame=df_flow_input,\n",
    "                columns=df_flow_input.keys(),\n",
    "                dict_pt=gandalf.galaxies.dict_pt\n",
    "            )\n",
    "\n",
    "        if cfg['APPLY_SCALER_FLOW_RUN'] is True:\n",
    "            df_flow_input = gandalf.galaxies.scale_data_on_fly(\n",
    "                data_frame=df_flow_input,\n",
    "                scaler=gandalf.galaxies.scaler\n",
    "            )\n",
    "\n",
    "        tsr_masked_input = torch.from_numpy(\n",
    "            df_flow_input[cfg[f'INPUT_COLS_{gandalf.lum_type}_RUN']].values).double()\n",
    "\n",
    "        del df_flow_input\n",
    "\n",
    "    else:\n",
    "        tsr_masked_input = torch.from_numpy(\n",
    "            df_balrog[cfg[f'INPUT_COLS_{gandalf.lum_type}_RUN']].values).double()\n",
    "        arr_masked_output = df_balrog[cfg[f'OUTPUT_COLS_{gandalf.lum_type}_RUN']].values\n",
    "        arr_masked_cut_cols = df_balrog[cfg[f'CUT_COLS_RUN']].values\n",
    "        arr_gandalf_prob_calib = np.ones(len(df_balrog))\n",
    "        arr_gandalf_detected_calib = np.array([True for _ in range(len(df_balrog))])\n",
    "        df_balrog = df_balrog[cfg[f'INPUT_COLS_{gandalf.lum_type}_RUN']+cfg[f'OUTPUT_COLS_{gandalf.lum_type}_RUN']]\n",
    "        "
   ]
  },
  {
   "cell_type": "code",
   "execution_count": null,
   "id": "c36270f1-8285-4bda-8b91-a166f9872e46",
   "metadata": {
    "collapsed": false,
    "is_executing": true,
    "ExecuteTime": {
     "start_time": "2024-02-14T07:52:06.284822Z"
    }
   },
   "outputs": [],
   "source": [
    "if cfg['EMULATE_GALAXIES'] is True:\n",
    "    chunk_size = 10000\n",
    "    tsr_masked_input_numpy = tsr_masked_input.numpy()\n",
    "    chunks = [tsr_masked_input_numpy[i:i + chunk_size] for i in range(0, len(tsr_masked_input_numpy), chunk_size)]\n",
    "    \n",
    "    df_list = []\n",
    "    for chunk in chunks:\n",
    "        arr_flow_gandalf_output = gandalf.gandalf_flow.sample(len(chunk), cond_inputs=torch.from_numpy(chunk)).detach().numpy()\n",
    "        df_chunk = pd.DataFrame(\n",
    "            np.concatenate(\n",
    "                (chunk, arr_flow_gandalf_output),\n",
    "                axis=1\n",
    "            ),\n",
    "            columns=cfg[f'INPUT_COLS_{gandalf.lum_type}_RUN'] + cfg[f'OUTPUT_COLS_{gandalf.lum_type}_RUN']\n",
    "        )\n",
    "        df_list.append(df_chunk)\n",
    "    \n",
    "    df_gandalf = pd.concat(df_list, ignore_index=True)\n",
    "    print(f\"Length gandalf catalog: {len(df_gandalf)}\")\n",
    "    print(f\"Number of NaNs in df_gandalf: {df_gandalf.isna().sum().sum()}\")\n",
    "    print(f\"Number of NaNs in df_balrog: {df_balrog.isna().sum().sum()}\")\n",
    "    "
   ]
  },
  {
   "cell_type": "code",
   "execution_count": null,
   "id": "5e460bbb-6246-44fe-97d9-67d0fd807ba2",
   "metadata": {
    "collapsed": false,
    "is_executing": true
   },
   "outputs": [],
   "source": [
    "if cfg['EMULATE_GALAXIES'] is True:\n",
    "    if cfg['APPLY_SCALER_FLOW_RUN'] is True:\n",
    "        print(\"apply scaler on df_gandalf\")\n",
    "        df_gandalf = gandalf.galaxies.inverse_scale_data(df_gandalf)\n",
    "        df_balrog = gandalf.galaxies.inverse_scale_data(df_balrog)\n",
    "    print(f\"Number of NaNs in df_gandalf after scaler: {df_gandalf.isna().sum().sum()}\")\n",
    "    print(f\"Number of NaNs in df_balrog after scaler: {df_balrog.isna().sum().sum()}\")"
   ]
  },
  {
   "cell_type": "code",
   "execution_count": null,
   "id": "e162be4c-4b97-4332-8b8c-8e24b514e563",
   "metadata": {
    "collapsed": false,
    "is_executing": true
   },
   "outputs": [],
   "source": [
    "if cfg['EMULATE_GALAXIES'] is True:\n",
    "    if cfg['APPLY_YJ_TRANSFORM_FLOW_RUN'] is True:\n",
    "        if cfg['TRANSFORM_COLS_RUN'] is None:\n",
    "            trans_col = df_gandalf.keys()\n",
    "        else:\n",
    "            trans_col = cfg['TRANSFORM_COLS_RUN']\n",
    "        print(\"apply yj transform on df_gandalf\")\n",
    "        df_gandalf = gandalf.galaxies.yj_inverse_transform_data(\n",
    "            data_frame=df_gandalf,\n",
    "            columns=trans_col\n",
    "        )\n",
    "        df_balrog = gandalf.galaxies.yj_inverse_transform_data(\n",
    "            data_frame=df_balrog,\n",
    "            columns=trans_col\n",
    "        )\n",
    "    print(f\"Number of NaNs in df_gandalf after yj inverse transformation: {df_gandalf.isna().sum().sum()}\")\n",
    "    print(f\"Number of NaNs in df_balrog after yj inverse transformation: {df_balrog.isna().sum().sum()}\")"
   ]
  },
  {
   "cell_type": "code",
   "execution_count": null,
   "id": "1e4a780a-7ca0-42ce-acb3-d5692801ce3e",
   "metadata": {
    "collapsed": false
   },
   "outputs": [],
   "source": [
    "if cfg['EMULATE_GALAXIES'] is True:\n",
    "    df_gandalf['true_detected'] = np.ones(len(df_gandalf))\n",
    "    df_gandalf[\"probability\"] = arr_gandalf_prob_calib[arr_gandalf_detected_calib]\n",
    "    df_gandalf[cfg['CUT_COLS_RUN']] = arr_masked_cut_cols\n",
    "\n",
    "    df_balrog['true_detected'] = arr_true_detected[arr_gandalf_detected_calib]\n",
    "    df_balrog[\"probability\"] = np.ones(len(df_balrog))\n",
    "    df_balrog[cfg['CUT_COLS_RUN']] = arr_masked_cut_cols\n",
    "\n",
    "    print(f\"Length gandalf catalog: {len(df_gandalf)}\")\n",
    "    print(f\"Length balrog catalog: {len(df_balrog)}\")"
   ]
  },
  {
   "cell_type": "code",
   "execution_count": null,
   "id": "9bb4c253-19f2-4019-a65b-f07a220cc073",
   "metadata": {
    "collapsed": false
   },
   "outputs": [],
   "source": [
    "if cfg['EMULATE_GALAXIES'] is True:\n",
    "    if df_gandalf.isna().sum().sum() > 0:\n",
    "        print(\"Warning: NaNs in df_gandalf_rescaled\")\n",
    "        print(f\"Number of NaNs in df_gandalf: {df_gandalf.isna().sum().sum()}\")\n",
    "        df_gandalf.dropna(inplace=True)\n",
    "\n",
    "    if df_balrog.isna().sum().sum() > 0:\n",
    "        print(\"Warning: NaNs in df_gandalf_rescaled\")\n",
    "        print(f\"Number of NaNs in df_gandalf: {df_balrog.isna().sum().sum()}\")\n",
    "        df_balrog.dropna(inplace=True)"
   ]
  },
  {
   "cell_type": "code",
   "execution_count": null,
   "id": "5e50e2cd602a6e7a",
   "metadata": {
    "collapsed": false
   },
   "outputs": [],
   "source": [
    "print(f\"Length gandalf catalog: {len(df_gandalf)}\")\n",
    "print(f\"Length balrog catalog: {len(df_balrog)}\")"
   ]
  },
  {
   "cell_type": "code",
   "execution_count": null,
   "id": "3dd0eb05f6443fcf",
   "metadata": {
    "collapsed": false
   },
   "outputs": [],
   "source": [
    "for col in df_gandalf.keys():\n",
    "    if \"unsheared\" in col:\n",
    "        print(\n",
    "            f\"{col}: {df_gandalf[col].min()}/{df_balrog[col].min()}\\t{df_gandalf[col].max()}/{df_balrog[col].max()}\")"
   ]
  },
  {
   "cell_type": "code",
   "execution_count": null,
   "id": "f7aee7e6907b9f93",
   "metadata": {
    "collapsed": false
   },
   "outputs": [],
   "source": [
    "df_balrog[\"unsheared/mag_r\"]"
   ]
  },
  {
   "cell_type": "code",
   "execution_count": null,
   "id": "830cd78648ca8fa9",
   "metadata": {
    "collapsed": false
   },
   "outputs": [],
   "source": [
    "df_gandalf[\"unsheared/mag_r\"]"
   ]
  },
  {
   "cell_type": "code",
   "execution_count": null,
   "id": "f6ffee4174afa00d",
   "metadata": {
    "collapsed": false
   },
   "outputs": [],
   "source": [
    "df_gandalf[\"unsheared/flux_r\"] = mag2flux(df_gandalf[\"unsheared/mag_r\"])\n",
    "df_balrog[\"unsheared/flux_r\"] = mag2flux(df_balrog[\"unsheared/mag_r\"])"
   ]
  },
  {
   "cell_type": "code",
   "execution_count": null,
   "id": "b1571dd01ca5adb1",
   "metadata": {
    "collapsed": false
   },
   "outputs": [],
   "source": [
    "df_balrog_cut = df_balrog.copy()\n",
    "df_gandalf_cut = df_gandalf.copy()\n",
    "\n",
    "df_balrog_cut = apply_cuts(cfg, df_balrog_cut)\n",
    "df_gandalf_cut = apply_cuts(cfg, df_gandalf_cut)\n",
    "\n",
    "print(f\"Length gandalf catalog: {len(df_gandalf_cut)}\")\n",
    "print(f\"Length balrog catalog: {len(df_balrog_cut)}\")\n",
    "print(f\"Length gandalf catalog: {len(df_gandalf)}\")\n",
    "print(f\"Length balrog catalog: {len(df_balrog)}\")"
   ]
  },
  {
   "cell_type": "code",
   "execution_count": null,
   "id": "b9d26a54bbfa1df6",
   "metadata": {
    "collapsed": false
   },
   "outputs": [],
   "source": [
    "mcal = 'mcal_'\n",
    "if cfg['PLOT_COLOR_COLOR_RUN'] is True:\n",
    "    df_gandalf = calc_color(\n",
    "        data_frame=df_gandalf_cut,\n",
    "        colors=cfg['COLORS_RUN'],\n",
    "        column_name=f\"unsheared/{gandalf.lum_type.lower()}\"\n",
    "    )\n",
    "    df_balrog = calc_color(\n",
    "        data_frame=df_balrog_cut,\n",
    "        colors=cfg['COLORS_RUN'],\n",
    "        column_name=f\"unsheared/{gandalf.lum_type.lower()}\"\n",
    "    )\n",
    "\n",
    "    try:\n",
    "        plot_compare_corner(\n",
    "            data_frame_generated=df_gandalf_cut,\n",
    "            data_frame_true=df_balrog_cut,\n",
    "            dict_delta=None,\n",
    "            epoch=None,\n",
    "            title=f\"{mcal} color-color plot\",\n",
    "            columns=[\"r-i\", \"i-z\"],\n",
    "            labels=[\"r-i\", \"i-z\"],\n",
    "            show_plot=cfg['SHOW_PLOT_RUN'],\n",
    "            save_plot=cfg['SAVE_PLOT_RUN'],\n",
    "            save_name=f\"{cfg[f'PATH_PLOTS_FOLDER'][f'{mcal.upper()}COLOR_COLOR_PLOT']}/{mcal}color_color.png\",\n",
    "            ranges=[(-8, 8), (-8, 8)]\n",
    "        )\n",
    "    except Exception as e:\n",
    "        print(e)"
   ]
  },
  {
   "cell_type": "code",
   "execution_count": null,
   "id": "2acac03097b92df",
   "metadata": {
    "collapsed": false
   },
   "outputs": [],
   "source": [
    "if cfg['PLOT_RESIDUAL_RUN'] is True:\n",
    "    try:\n",
    "        hist_figure, ((stat_ax1), (stat_ax2), (stat_ax3)) = plt.subplots(nrows=3, ncols=1, figsize=(12, 12))\n",
    "        hist_figure.subplots_adjust(left=None, bottom=None, right=None, top=None, wspace=0.5, hspace=0.5)\n",
    "        hist_figure.suptitle(r\"residual\", fontsize=16)\n",
    "\n",
    "        lst_axis_res = [\n",
    "            stat_ax1,\n",
    "            stat_ax2,\n",
    "            stat_ax3\n",
    "        ]\n",
    "\n",
    "        lst_xlim_res = [\n",
    "            (-2.5, 2.5),\n",
    "            (-2.5, 2.5),\n",
    "            (-2.5, 2.5)\n",
    "        ]\n",
    "\n",
    "        df_hist_Balrog = pd.DataFrame({\n",
    "            \"dataset\": [\"Balrog\" for _ in range(len(df_balrog[f\"unsheared/mag_r\"]))]\n",
    "        })\n",
    "        df_hist_generated = pd.DataFrame({\n",
    "            \"dataset\": [\"gaNdalF\" for _ in range(len(df_gandalf[f\"unsheared/mag_r\"]))]\n",
    "        })\n",
    "        for band in cfg['BANDS_RUN']:\n",
    "            df_hist_Balrog[f\"BDF_MAG_DERED_CALIB - unsheared/mag {band}\"] = \\\n",
    "                df_balrog[f\"BDF_MAG_DERED_CALIB_{band.upper()}\"] - df_balrog[f\"unsheared/mag_{band}\"]\n",
    "            df_hist_generated[f\"BDF_MAG_DERED_CALIB - unsheared/mag {band}\"] = \\\n",
    "                df_balrog[f\"BDF_MAG_DERED_CALIB_{band.upper()}\"] - df_gandalf[f\"unsheared/mag_{band}\"]\n",
    "\n",
    "        for idx, band in enumerate(cfg['BANDS_RUN']):\n",
    "            sns.histplot(\n",
    "                data=df_hist_Balrog,\n",
    "                x=f\"BDF_MAG_DERED_CALIB - unsheared/mag {band}\",\n",
    "                ax=lst_axis_res[idx],\n",
    "                element=\"step\",\n",
    "                stat=\"density\",\n",
    "                color=\"dodgerblue\",\n",
    "                bins=50,\n",
    "                label=\"Balrog\"\n",
    "            )\n",
    "            sns.histplot(\n",
    "                data=df_hist_generated,\n",
    "                x=f\"BDF_MAG_DERED_CALIB - unsheared/mag {band}\",\n",
    "                ax=lst_axis_res[idx],\n",
    "                element=\"step\",\n",
    "                stat=\"density\",\n",
    "                color=\"darkorange\",\n",
    "                fill=False,\n",
    "                bins=50,\n",
    "                label=\"gaNdalF\"\n",
    "            )\n",
    "            lst_axis_res[idx].axvline(\n",
    "                x=df_hist_Balrog[f\"BDF_MAG_DERED_CALIB - unsheared/mag {band}\"].median(),\n",
    "                color='dodgerblue',\n",
    "                ls='--',\n",
    "                lw=1.5,\n",
    "                label=\"Mean Balrog\"\n",
    "            )\n",
    "            lst_axis_res[idx].axvline(\n",
    "                x=df_hist_generated[f\"BDF_MAG_DERED_CALIB - unsheared/mag {band}\"].median(),\n",
    "                color='darkorange',\n",
    "                ls='--',\n",
    "                lw=1.5,\n",
    "                label=\"Mean gaNdalF\"\n",
    "            )\n",
    "            lst_axis_res[idx].set_xlim(lst_xlim_res[idx][0], lst_xlim_res[idx][1])\n",
    "            if idx == 0:\n",
    "                lst_axis_res[idx].legend()\n",
    "            else:\n",
    "                lst_axis_res[idx].legend([], [], frameon=False)\n",
    "        hist_figure.tight_layout()\n",
    "        if cfg['SAVE_PLOT_RUN'] is True:\n",
    "            plt.savefig(f\"{cfg['PATH_PLOTS_FOLDER'][f'{mcal.upper()}RESIDUAL_PLOT']}/{mcal}residual_plot.png\")\n",
    "        if cfg['SHOW_PLOT_RUN'] is True:\n",
    "            plt.show()\n",
    "        plt.clf()\n",
    "        plt.close()\n",
    "    except Exception as e:\n",
    "        print(e)"
   ]
  },
  {
   "cell_type": "code",
   "execution_count": null,
   "id": "1bd0026dfc6fe7f7",
   "metadata": {
    "collapsed": false
   },
   "outputs": [],
   "source": [
    "if cfg['PLOT_CHAIN_RUN'] is True:\n",
    "    try:\n",
    "        plot_compare_corner(\n",
    "            data_frame_generated=df_gandalf_cut,\n",
    "            data_frame_true=df_balrog_cut,\n",
    "            dict_delta=None,\n",
    "            epoch=None,\n",
    "            title=f\"{mcal} chain plot\",\n",
    "            show_plot=cfg['SHOW_PLOT_RUN'],\n",
    "            save_plot=cfg['SAVE_PLOT_RUN'],\n",
    "            save_name=f\"{cfg[f'PATH_PLOTS_FOLDER'][f'{mcal.upper()}CHAIN_PLOT']}/{mcal}chainplot.png\",\n",
    "            columns=[\n",
    "                f\"unsheared/{gandalf.lum_type.lower()}_r\",\n",
    "                f\"unsheared/{gandalf.lum_type.lower()}_i\",\n",
    "                f\"unsheared/{gandalf.lum_type.lower()}_z\",\n",
    "                \"unsheared/snr\",\n",
    "                \"unsheared/size_ratio\",\n",
    "                \"unsheared/T\",\n",
    "                # \"unsheared/weight\",\n",
    "            ],\n",
    "            labels=[\n",
    "                f\"{gandalf.lum_type.lower()}_r\",\n",
    "                f\"{gandalf.lum_type.lower()}_i\",\n",
    "                f\"{gandalf.lum_type.lower()}_z\",\n",
    "                \"snr\",\n",
    "                \"size_ratio\",\n",
    "                \"T\",\n",
    "                # \"weight\"\n",
    "            ],\n",
    "            ranges=[(17, 25), (17, 25), (17, 25), (-2, 300), (0, 6), (0, 3)]  # , (10, 80)\n",
    "        )\n",
    "    except Exception as e:\n",
    "        print(e)"
   ]
  },
  {
   "cell_type": "code",
   "execution_count": null,
   "id": "bc5fd9bdcb63eca6",
   "metadata": {
    "collapsed": false
   },
   "outputs": [],
   "source": [
    "if cfg['PLOT_CONDITIONS'] is True:\n",
    "    for condition in cfg['CONDITIONS']:\n",
    "        try:\n",
    "            cond_figure, (\n",
    "                (stat_ax1), (stat_ax2), (stat_ax3)) = \\\n",
    "                plt.subplots(nrows=3, ncols=1, figsize=(12, 12))\n",
    "            cond_figure.subplots_adjust(left=None, bottom=None, right=None, top=None, wspace=0.5, hspace=0.5)\n",
    "            cond_figure.suptitle(f\"BDF_MAG_DERED_CALIB - unsheared/mag\", fontsize=16)\n",
    "\n",
    "            outputs = ['unsheared/mag_' + b for b in cfg['BANDS_RUN']]\n",
    "            true_outputs = ['BDF_MAG_DERED_CALIB_' + b.upper() for b in cfg['BANDS_RUN']]\n",
    "            output_errs = ['unsheared/mag_err_' + b for b in cfg['BANDS_RUN']]\n",
    "\n",
    "            lst_axis_con = [\n",
    "                stat_ax1,\n",
    "                stat_ax2,\n",
    "                stat_ax3\n",
    "            ]\n",
    "\n",
    "            if df_balrog[condition].size == 0:\n",
    "                print(\"df_balrog[condition] empty\")\n",
    "            else:\n",
    "                cond_lims = np.percentile(df_balrog[condition], [2, 98])\n",
    "                standard_levels = 10  # [0.393, 0.865, 0.989]\n",
    "\n",
    "            for idx, out in enumerate(zip(outputs, output_errs, true_outputs)):\n",
    "                output_ = out[0]\n",
    "                output_err_ = out[1]\n",
    "                true_output_ = out[2]\n",
    "\n",
    "                diff_true = (df_balrog[true_output_] - df_balrog[output_]) / df_balrog[output_err_]\n",
    "                df_conditional_true = pd.DataFrame({\n",
    "                    condition: df_balrog[condition],\n",
    "                    f\"residual band {cfg['BANDS_RUN'][idx]}\": diff_true,\n",
    "                    \"dataset\": [\"Balrog\" for _ in range(len(df_balrog[condition]))]\n",
    "                })\n",
    "                bin_means_true, bin_edges_mean_true, binnumber_true = binned_statistic(\n",
    "                    df_balrog[condition], diff_true, statistic='median', bins=10, range=cond_lims)\n",
    "                bin_stds_true, bin_edges_true, binnumber_true = binned_statistic(\n",
    "                    df_balrog[condition], diff_true, statistic=median_abs_deviation, bins=10, range=cond_lims)\n",
    "                xerr_true = (bin_edges_mean_true[1:] - bin_edges_mean_true[:-1]) / 2\n",
    "                xmean_true = (bin_edges_mean_true[1:] + bin_edges_mean_true[:-1]) / 2\n",
    "                lst_axis_con[idx].errorbar(\n",
    "                    xmean_true, bin_means_true, xerr=xerr_true, yerr=bin_stds_true, color='dodgerblue', lw=2,\n",
    "                    label='Balrog')\n",
    "\n",
    "                diff_generated = (df_gandalf[true_output_] - df_gandalf[output_]) / df_gandalf[\n",
    "                    output_err_]\n",
    "                df_conditional_generated = pd.DataFrame({\n",
    "                    condition: df_gandalf[condition],\n",
    "                    f\"residual band {cfg['BANDS_RUN'][idx]}\": diff_generated,\n",
    "                    \"dataset\": [\"gaNdalF\" for _ in range(len(df_gandalf[condition]))]\n",
    "                })\n",
    "                bin_means_generated, bin_edges_mean_generated, binnumber_mean_generated = binned_statistic(\n",
    "                    df_gandalf[condition], diff_generated, statistic='median', bins=10, range=cond_lims)\n",
    "                bin_stds_generated, bin_edges_generated, binnumber_generated = binned_statistic(\n",
    "                    df_gandalf[condition], diff_generated, statistic=median_abs_deviation, bins=10,\n",
    "                    range=cond_lims)\n",
    "                xerr_generated = (bin_edges_mean_generated[1:] - bin_edges_mean_generated[:-1]) / 2\n",
    "                xmean_generated = (bin_edges_mean_generated[1:] + bin_edges_mean_generated[:-1]) / 2\n",
    "                lst_axis_con[idx].errorbar(\n",
    "                    xmean_generated, bin_means_generated, xerr=xerr_generated, yerr=bin_stds_generated,\n",
    "                    color='darkorange', lw=2, label='gaNdalF')\n",
    "                m, s = np.median(diff_generated), median_abs_deviation(diff_generated)\n",
    "                range_ = [m - 4 * s, m + 4 * s]\n",
    "\n",
    "                sns.kdeplot(\n",
    "                    data=df_conditional_true,\n",
    "                    x=condition,\n",
    "                    y=f\"residual band {cfg['BANDS_RUN'][idx]}\",\n",
    "                    fill=True,\n",
    "                    thresh=0,\n",
    "                    levels=standard_levels,  # 10\n",
    "                    color=\"dodgerblue\",\n",
    "                    legend=\"Balrog\",\n",
    "                    ax=lst_axis_con[idx]\n",
    "                )\n",
    "                sns.kdeplot(\n",
    "                    data=df_conditional_generated,\n",
    "                    x=condition,\n",
    "                    y=f\"residual band {cfg['BANDS_RUN'][idx]}\",\n",
    "                    fill=False,\n",
    "                    thresh=0,\n",
    "                    levels=standard_levels,  # 10\n",
    "                    alpha=.5,\n",
    "                    color=\"darkorange\",\n",
    "                    legend=\"gaNdalF\",\n",
    "                    ax=lst_axis_con[idx]\n",
    "                )\n",
    "                lst_axis_con[idx].set_xlim(cond_lims)\n",
    "                lst_axis_con[idx].set_ylim(range_)\n",
    "                lst_axis_con[idx].axhline(np.median(diff_true), c='dodgerblue', ls='--', label='median Balrog')\n",
    "                lst_axis_con[idx].axhline(0, c='grey', ls='--', label='zero')\n",
    "                lst_axis_con[idx].axhline(np.median(diff_generated), c='darkorange', ls='--',\n",
    "                                          label='median gaNdalF')\n",
    "                lst_axis_con[idx].axvline(np.median(df_balrog[condition]), c='grey', ls='--',\n",
    "                                          label='median conditional')\n",
    "            lst_axis_con[0].legend()\n",
    "            cond_figure.tight_layout()\n",
    "            if cfg['SAVE_PLOT_RUN'] is True:\n",
    "                plt.savefig(f\"{cfg['PATH_PLOTS_FOLDER'][f'{mcal.upper()}CONDITIONS_PLOT']}/{mcal}{condition}_plot.png\")\n",
    "            if cfg['SHOW_PLOT_RUN'] is True:\n",
    "                plt.show()\n",
    "            plt.clf()\n",
    "            plt.close()\n",
    "\n",
    "        except ValueError:\n",
    "            print(f\"Value Error for {condition}\")"
   ]
  },
  {
   "cell_type": "code",
   "execution_count": null,
   "id": "c2c3d9906891a59e",
   "metadata": {
    "collapsed": false
   },
   "outputs": [],
   "source": [
    "if cfg['PLOT_HIST'] is True:\n",
    "    try:\n",
    "        hist_figure_2, ((hist_ax1), (hist_ax2), (hist_ax3)) = \\\n",
    "            plt.subplots(nrows=3, ncols=1, figsize=(12, 12))\n",
    "        hist_figure_2.subplots_adjust(left=None, bottom=None, right=None, top=None, wspace=0.5, hspace=0.5)\n",
    "        hist_figure_2.suptitle(r\"magnitude histogram\", fontsize=16)\n",
    "\n",
    "        lst_axis_his = [\n",
    "            hist_ax1,\n",
    "            hist_ax2,\n",
    "            hist_ax3\n",
    "        ]\n",
    "\n",
    "        for ax_idx, his_ax in enumerate(lst_axis_his):\n",
    "            sns.histplot(\n",
    "                data=df_balrog_cut,\n",
    "                x=f\"unsheared/mag_{cfg['BANDS_RUN'][ax_idx]}\",\n",
    "                ax=his_ax,\n",
    "                element=\"step\",\n",
    "                stat=\"count\",\n",
    "                color=\"dodgerblue\",\n",
    "                fill=True,\n",
    "                binwidth=0.2,\n",
    "                log_scale=(False, True),\n",
    "                label=\"balrog\"\n",
    "            )\n",
    "            sns.histplot(\n",
    "                data=df_gandalf_cut,\n",
    "                x=f\"unsheared/mag_{cfg['BANDS_RUN'][ax_idx]}\",\n",
    "                ax=his_ax,\n",
    "                element=\"step\",\n",
    "                stat=\"count\",\n",
    "                color=\"darkorange\",\n",
    "                fill=False,\n",
    "                log_scale=(False, True),\n",
    "                binwidth=0.2,\n",
    "                label=\"gaNdalF\"\n",
    "            )\n",
    "            his_ax.axvline(\n",
    "                x=df_balrog_cut[f\"unsheared/mag_{cfg['BANDS_RUN'][ax_idx]}\"].median(),\n",
    "                color='dodgerblue',\n",
    "                ls='--',\n",
    "                lw=1.5,\n",
    "                label=\"Mean Balrog\"\n",
    "            )\n",
    "            his_ax.axvline(\n",
    "                x=df_gandalf_cut[f\"unsheared/mag_{cfg['BANDS_RUN'][ax_idx]}\"].median(),\n",
    "                color='darkorange',\n",
    "                ls='--',\n",
    "                lw=1.5,\n",
    "                label=\"Mean gaNdalF\"\n",
    "            )\n",
    "        plt.legend()\n",
    "        if cfg['SAVE_PLOT_RUN'] == True:\n",
    "            plt.savefig(f\"{cfg['PATH_PLOTS_FOLDER'][f'{mcal.upper()}HIST_PLOT']}/{mcal}magnitude_histogram.png\")\n",
    "        if cfg['SHOW_PLOT_RUN'] == True:\n",
    "            plt.show()\n",
    "        plt.clf()\n",
    "        plt.close()\n",
    "    except Exception as e:\n",
    "        print(e)"
   ]
  },
  {
   "cell_type": "code",
   "execution_count": null,
   "id": "5175107e90d107fe",
   "metadata": {
    "collapsed": false
   },
   "outputs": [],
   "source": [
    "import pickle\n",
    "df_gandalf_cut.rename(columns={\"ID\": \"true_id\"}, inplace=True)\n",
    "with open(f\"{cfg['PATH_CATALOGS']}/{cfg['FILENAME_GANDALF_CATALOG']}_{cfg['NUMBER_SAMPLES']}_b.pkl\", \"wb\") as f:\n",
    "    pickle.dump(df_gandalf_cut.to_dict(), f, protocol=2)"
   ]
  },
  {
   "cell_type": "code",
   "execution_count": null,
   "id": "4c303098-8497-4937-b6b2-cccebb60d658",
   "metadata": {},
   "outputs": [],
   "source": [
    "f\"{cfg['PATH_CATALOGS']}/{cfg['FILENAME_GANDALF_CATALOG']}_{len(df_gandalf_cut)}_b.pkl\""
   ]
  },
  {
   "cell_type": "code",
   "execution_count": null,
   "id": "0deb7390-44f7-4211-9620-678c1a266d47",
   "metadata": {},
   "outputs": [],
   "source": [
    "len(df_gandalf_cut)"
   ]
  },
  {
   "cell_type": "code",
   "execution_count": null,
   "id": "6f52fe39-5d2d-407e-be32-77856d3ceefd",
   "metadata": {},
   "outputs": [],
   "source": []
  },
  {
   "cell_type": "code",
   "outputs": [],
   "source": [],
   "metadata": {
    "collapsed": false
   },
   "id": "c86693cac3894cdd"
  },
  {
   "cell_type": "code",
   "outputs": [],
   "source": [],
   "metadata": {
    "collapsed": false
   },
   "id": "c83a60983d7a4784"
  },
  {
   "cell_type": "code",
   "outputs": [],
   "source": [],
   "metadata": {
    "collapsed": false
   },
   "id": "749550455c9440b4"
  }
 ],
 "metadata": {
  "kernelspec": {
   "display_name": "Python 3 (ipykernel)",
   "language": "python",
   "name": "python3"
  },
  "language_info": {
   "codemirror_mode": {
    "name": "ipython",
    "version": 3
   },
   "file_extension": ".py",
   "mimetype": "text/x-python",
   "name": "python",
   "nbconvert_exporter": "python",
   "pygments_lexer": "ipython3",
   "version": "3.10.5"
  }
 },
 "nbformat": 4,
 "nbformat_minor": 5
}
