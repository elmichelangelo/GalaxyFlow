{
 "cells": [
  {
   "cell_type": "code",
   "id": "47d4a763-8b27-4fdf-8718-5dc9c09702cd",
   "metadata": {
    "tags": [],
    "ExecuteTime": {
     "end_time": "2024-10-21T10:27:23.016335Z",
     "start_time": "2024-10-21T10:27:20.338615Z"
    }
   },
   "source": [
    "import matplotlib.pyplot as plt\n",
    "import pandas as pd\n",
    "from Handler import *\n",
    "import os"
   ],
   "outputs": [],
   "execution_count": 1
  },
  {
   "cell_type": "code",
   "id": "77f2d4a1-80ed-435d-989b-c28f97d4a564",
   "metadata": {
    "tags": [],
    "ExecuteTime": {
     "end_time": "2024-10-21T10:27:23.041831Z",
     "start_time": "2024-10-21T10:27:23.039877Z"
    }
   },
   "source": [
    "# path_data = \"/Volumes/elmichelangelo_external_ssd_1/Data/gaNdalF_paper_catalogs\"\n",
    "path_data = \"/Users/P.Gebhardt/Development/PhD/data\"\n",
    "path_data_master_cat = \"/Volumes/elmichelangelo_external_ssd_1/Data/gaNdalF\"\n",
    "filename_flw_balrog = \"2024-10-02_10-37_balrog_flw_Test_sample.pkl\"\n",
    "filename_flw_gandalf = \"2024-10-02_10-37_gandalf_flw_Test_sample.pkl\"\n",
    "filename_master_cat = \"Y3_mastercat_02_05_21.h5\"\n",
    "path_save_plots = \"/Users/P.Gebhardt/Development/PhD/output/gaNdalF_paper\""
   ],
   "outputs": [],
   "execution_count": 2
  },
  {
   "cell_type": "code",
   "id": "8f86283f-b6e3-4594-9242-24f75ce353e1",
   "metadata": {
    "tags": [],
    "ExecuteTime": {
     "end_time": "2024-10-21T10:27:25.253397Z",
     "start_time": "2024-10-21T10:27:23.119727Z"
    }
   },
   "source": [
    "df_balrog_flw = pd.read_pickle(f\"{path_data}/{filename_flw_balrog}\")\n",
    "df_gandalf_flw = pd.read_pickle(f\"{path_data}/{filename_flw_gandalf}\")"
   ],
   "outputs": [],
   "execution_count": 3
  },
  {
   "metadata": {
    "ExecuteTime": {
     "end_time": "2024-10-21T10:27:26.860267Z",
     "start_time": "2024-10-21T10:27:26.858329Z"
    }
   },
   "cell_type": "code",
   "source": [
    "columns = [\n",
    "    \"unsheared/mag_r\",\n",
    "    \"unsheared/mag_i\",\n",
    "    \"unsheared/mag_z\",\n",
    "    \"Color unsheared MAG r-i\",\n",
    "    \"Color unsheared MAG i-z\",\n",
    "    \"unsheared/snr\",\n",
    "    \"unsheared/size_ratio\",\n",
    "    \"unsheared/weight\",\n",
    "    \"unsheared/T\"\n",
    "]"
   ],
   "id": "7bdc0bda519bb37b",
   "outputs": [],
   "execution_count": 4
  },
  {
   "metadata": {
    "ExecuteTime": {
     "end_time": "2024-10-21T10:27:28.071568Z",
     "start_time": "2024-10-21T10:27:27.598045Z"
    }
   },
   "cell_type": "code",
   "source": [
    "df_balrog_flw = df_balrog_flw[columns]\n",
    "df_gandalf_flw = df_gandalf_flw[columns]"
   ],
   "id": "e2bc1c1e032e929f",
   "outputs": [],
   "execution_count": 5
  },
  {
   "metadata": {
    "ExecuteTime": {
     "end_time": "2024-10-21T10:27:28.086178Z",
     "start_time": "2024-10-21T10:27:28.083885Z"
    }
   },
   "cell_type": "code",
   "source": [
    "def apply_cuts(data_frame, path_master_cat):\n",
    "    \"\"\"\"\"\"\n",
    "    data_frame = unsheared_object_cuts(data_frame=data_frame)\n",
    "    data_frame = flag_cuts(data_frame=data_frame)\n",
    "    data_frame = unsheared_shear_cuts(data_frame=data_frame)\n",
    "    data_frame = binary_cut(data_frame=data_frame)\n",
    "    data_frame = mask_cut_healpy(\n",
    "        data_frame=data_frame,\n",
    "        master=path_master_cat\n",
    "    )\n",
    "    data_frame = unsheared_mag_cut(data_frame=data_frame)\n",
    "    return data_frame"
   ],
   "id": "49dd1de02926af75",
   "outputs": [],
   "execution_count": 6
  },
  {
   "metadata": {
    "ExecuteTime": {
     "end_time": "2024-10-21T10:27:28.096014Z",
     "start_time": "2024-10-21T10:27:28.093929Z"
    }
   },
   "cell_type": "code",
   "source": [
    "def replace_nan(data_frame, cols, default_values):\n",
    "    \"\"\"\n",
    "    \"\"\"\n",
    "    for idx, col in enumerate(cols):\n",
    "        data_frame[col] = data_frame[col].fillna(default_values[idx])\n",
    "    return data_frame"
   ],
   "id": "37b4322926e73122",
   "outputs": [],
   "execution_count": 7
  },
  {
   "metadata": {
    "ExecuteTime": {
     "end_time": "2024-10-21T10:27:28.105326Z",
     "start_time": "2024-10-21T10:27:28.103192Z"
    }
   },
   "cell_type": "code",
   "source": [
    "def max_default(data_frame, cols, max_lim):\n",
    "    for idx, col in enumerate(cols):\n",
    "        arr_flw = data_frame[col].to_numpy()\n",
    "        for i, val in enumerate(arr_flw):\n",
    "            if val > max_lim[idx]:\n",
    "                arr_flw[i] = max_lim[idx]\n",
    "        data_frame[col] = arr_flw\n",
    "    return data_frame"
   ],
   "id": "e1dea5b065c5891a",
   "outputs": [],
   "execution_count": 8
  },
  {
   "metadata": {
    "ExecuteTime": {
     "end_time": "2024-10-21T10:27:28.115061Z",
     "start_time": "2024-10-21T10:27:28.112639Z"
    }
   },
   "cell_type": "code",
   "source": [
    "def min_default(data_frame, cols, min_lim):\n",
    "    for idx, col in enumerate(cols):\n",
    "        arr_flw = data_frame[col].to_numpy()\n",
    "        for i, val in enumerate(arr_flw):\n",
    "            if val < min_lim[idx]:\n",
    "                arr_flw[i] = min_lim[idx]\n",
    "        data_frame[col] = arr_flw\n",
    "    return data_frame"
   ],
   "id": "3e1abe2abf9bd6cf",
   "outputs": [],
   "execution_count": 9
  },
  {
   "metadata": {
    "ExecuteTime": {
     "end_time": "2024-10-21T10:27:28.208243Z",
     "start_time": "2024-10-21T10:27:28.122540Z"
    }
   },
   "cell_type": "code",
   "source": [
    "lst_col_nan = [\n",
    "    \"unsheared/mag_r\",\n",
    "    \"unsheared/mag_i\",\n",
    "    \"unsheared/mag_z\",\n",
    "    \"unsheared/snr\",\n",
    "    \"unsheared/size_ratio\",\n",
    "    \"unsheared/weight\",\n",
    "    \"unsheared/T\",\n",
    "]\n",
    "\n",
    "lst_nan = [\n",
    "    df_balrog_flw[\"unsheared/mag_r\"].max(), \n",
    "    df_balrog_flw[\"unsheared/mag_i\"].max(),\n",
    "    df_balrog_flw[\"unsheared/mag_z\"].max(),\n",
    "    df_balrog_flw[\"unsheared/snr\"].max(),\n",
    "    df_balrog_flw[\"unsheared/size_ratio\"].max(),\n",
    "    df_balrog_flw[\"unsheared/weight\"].max(),\n",
    "    df_balrog_flw[\"unsheared/T\"].max(),\n",
    "]\n",
    "lst_col_max = [\n",
    "    \"unsheared/mag_r\",\n",
    "    \"unsheared/mag_i\",\n",
    "    \"unsheared/mag_z\",\n",
    "    # \"unsheared/weight\",\n",
    "    # \"unsheared/T\"\n",
    "]\n",
    "\n",
    "lst_max = [\n",
    "    df_balrog_flw[\"unsheared/mag_r\"].max(), \n",
    "    df_balrog_flw[\"unsheared/mag_i\"].max(),\n",
    "    df_balrog_flw[\"unsheared/mag_z\"].max(),\n",
    "    # df_balrog_flw[\"unsheared/weight\"].max(),\n",
    "    # df_balrog_flw[\"unsheared/T\"].max()\n",
    "]\n",
    "lst_col_min = [\n",
    "    \"unsheared/snr\"\n",
    "]\n",
    "\n",
    "lst_min = [\n",
    "    df_balrog_flw[\"unsheared/snr\"].min()\n",
    "]"
   ],
   "id": "1e5b4c8eb7cd701e",
   "outputs": [],
   "execution_count": 10
  },
  {
   "metadata": {
    "ExecuteTime": {
     "end_time": "2024-10-21T10:27:28.490718Z",
     "start_time": "2024-10-21T10:27:28.215912Z"
    }
   },
   "cell_type": "code",
   "source": [
    "for col in [\"unsheared/snr\", \"unsheared/size_ratio\", \"unsheared/weight\", \"unsheared/T\"]:\n",
    "    print(\"Balrog\", col,  df_balrog_flw[col].min(), df_balrog_flw[col].max())\n",
    "    print(\"gandalf\", col,  df_gandalf_flw[col].min(), df_gandalf_flw[col].max(), len(df_gandalf_flw[df_gandalf_flw[col] < df_balrog_flw[col].min()]), len(df_gandalf_flw[df_gandalf_flw[col] > df_balrog_flw[col].max()]))"
   ],
   "id": "b67a16ee0c72f61a",
   "outputs": [
    {
     "name": "stdout",
     "output_type": "stream",
     "text": [
      "Balrog unsheared/snr 0.2922319918893921 2156553.400698355\n",
      "gandalf unsheared/snr -1.3403619464477559 892543939.6454452 182 41\n",
      "Balrog unsheared/size_ratio -0.863650170709954 4346136.564595506\n",
      "gandalf unsheared/size_ratio -1.056310170403342 5958409.006839054 4 1\n",
      "Balrog unsheared/weight 10.300535620007455 77.58102207323857\n",
      "gandalf unsheared/weight 1.3665886212677467 5841394.611151484 987493 26272\n",
      "Balrog unsheared/T -0.35429057220318616 1430981.5103585045\n",
      "gandalf unsheared/T -1.6248105766957441 1483.259239868674 1211 0\n"
     ]
    }
   ],
   "execution_count": 11
  },
  {
   "metadata": {
    "ExecuteTime": {
     "end_time": "2024-10-21T10:27:30.031983Z",
     "start_time": "2024-10-21T10:27:28.497936Z"
    }
   },
   "cell_type": "code",
   "source": [
    "df_gandalf_flw = replace_nan(df_gandalf_flw, lst_col_nan, lst_nan)\n",
    "df_gandalf_flw = max_default(df_gandalf_flw, lst_col_max, lst_max)\n",
    "# df_gandalf_flw = min_default(df_gandalf_flw, lst_col_min, lst_min)"
   ],
   "id": "9cf6166e4e8b211c",
   "outputs": [],
   "execution_count": 12
  },
  {
   "metadata": {
    "ExecuteTime": {
     "end_time": "2024-10-21T10:27:30.079280Z",
     "start_time": "2024-10-21T10:27:30.041377Z"
    }
   },
   "cell_type": "code",
   "source": [
    "df_gandalf_flw[\"Color unsheared MAG r-i\"] = df_gandalf_flw[\"unsheared/mag_r\"] - df_gandalf_flw[\"unsheared/mag_i\"]\n",
    "df_gandalf_flw[\"Color unsheared MAG i-z\"] = df_gandalf_flw[\"unsheared/mag_i\"] - df_gandalf_flw[\"unsheared/mag_z\"]"
   ],
   "id": "71d8ff336f52cfa4",
   "outputs": [],
   "execution_count": 13
  },
  {
   "metadata": {
    "ExecuteTime": {
     "end_time": "2024-10-21T10:27:30.441941Z",
     "start_time": "2024-10-21T10:27:30.087223Z"
    }
   },
   "cell_type": "code",
   "source": [
    "df_gandalf_flw_cut = df_gandalf_flw.copy()\n",
    "df_gandalf_flw_cut = unsheared_mag_cut(df_gandalf_flw_cut)"
   ],
   "id": "be11e617c42247a7",
   "outputs": [
    {
     "name": "stdout",
     "output_type": "stream",
     "text": [
      "Apply unsheared mag cuts\n",
      "Length of catalog after applying unsheared mag cuts: 6051712\n"
     ]
    }
   ],
   "execution_count": 14
  },
  {
   "metadata": {
    "ExecuteTime": {
     "end_time": "2024-10-21T10:27:30.694024Z",
     "start_time": "2024-10-21T10:27:30.451903Z"
    }
   },
   "cell_type": "code",
   "source": [
    "df_balrog_flw_cut = df_balrog_flw.copy()\n",
    "df_balrog_flw_cut = unsheared_mag_cut(df_balrog_flw_cut)"
   ],
   "id": "ee024b0b539b94e1",
   "outputs": [
    {
     "name": "stdout",
     "output_type": "stream",
     "text": [
      "Apply unsheared mag cuts\n",
      "Length of catalog after applying unsheared mag cuts: 6075070\n"
     ]
    }
   ],
   "execution_count": 15
  },
  {
   "cell_type": "code",
   "id": "a2e96b37-4103-4b67-ab1a-68376a268939",
   "metadata": {
    "tags": [],
    "ExecuteTime": {
     "end_time": "2024-10-21T10:27:30.707440Z",
     "start_time": "2024-10-21T10:27:30.705121Z"
    }
   },
   "source": [
    "print(f\"Length of Balrog objects: {len(df_balrog_flw)}\")\n",
    "print(f\"Length of gaNdalF objects: {len(df_gandalf_flw)}\")\n",
    "print(f\"Length of Balrog objects after mag cut: {len(df_balrog_flw_cut)}\")\n",
    "print(f\"Length of gaNdalF objects after mag cut: {len(df_gandalf_flw_cut)}\")"
   ],
   "outputs": [
    {
     "name": "stdout",
     "output_type": "stream",
     "text": [
      "Length of Balrog objects: 8616255\n",
      "Length of gaNdalF objects: 8614806\n",
      "Length of Balrog objects after mag cut: 6075070\n",
      "Length of gaNdalF objects after mag cut: 6051712\n"
     ]
    }
   ],
   "execution_count": 16
  },
  {
   "metadata": {
    "ExecuteTime": {
     "end_time": "2024-10-21T10:27:31.605582Z",
     "start_time": "2024-10-21T10:27:30.718692Z"
    }
   },
   "cell_type": "code",
   "source": [
    "df_gandalf_flw_sub_cut = df_gandalf_flw_cut.sample(n=int(1E6))\n",
    "df_balrog_flw_sub_cut = df_balrog_flw_cut.sample(n=int(1E6))\n",
    "\n",
    "df_gandalf_flw_sub = df_gandalf_flw.sample(n=int(1E6))\n",
    "df_balrog_flw_sub = df_balrog_flw.sample(n=int(1E6))"
   ],
   "id": "c50dead98f075f23",
   "outputs": [],
   "execution_count": 17
  },
  {
   "metadata": {
    "jupyter": {
     "is_executing": true
    },
    "ExecuteTime": {
     "start_time": "2024-10-21T10:27:31.620997Z"
    }
   },
   "cell_type": "code",
   "source": [
    "plot_compare_corner(\n",
    "    data_frame_generated=df_gandalf_flw,\n",
    "    data_frame_true=df_balrog_flw,\n",
    "    dict_delta=None,\n",
    "    epoch=None,\n",
    "    title=f\"Compare Measured Galaxy Properties Balrog-gaNdalF\",\n",
    "    columns=[\n",
    "        \"Color unsheared MAG r-i\",\n",
    "        \"Color unsheared MAG i-z\",\n",
    "        \"unsheared/mag_r\",\n",
    "        \"unsheared/mag_i\",\n",
    "        \"unsheared/mag_z\",\n",
    "        \"unsheared/snr\",\n",
    "        \"unsheared/size_ratio\",\n",
    "        \"unsheared/weight\",\n",
    "        \"unsheared/T\"\n",
    "    ],\n",
    "    labels=[\n",
    "        \"r-i\",\n",
    "        \"i-z\",\n",
    "        \"mag r\",\n",
    "        \"mag i\",\n",
    "        \"mag z\",\n",
    "        \"snr\",\n",
    "        \"size ratio\",\n",
    "        \"weight\",\n",
    "        \"T\"\n",
    "    ],\n",
    "    show_plot=False,\n",
    "    save_plot=True,\n",
    "    save_name=f\"{path_save_plots}/compare_measured_galaxy_properties_datapoints.png\",\n",
    "    ranges=[\n",
    "        [-0.5, 1.5],\n",
    "        [-0.5, 1.5],\n",
    "        [18, 24.5],\n",
    "        [18, 24.5],\n",
    "        [18, 24.5],\n",
    "        [2, 100],\n",
    "        [-0.5, 5],\n",
    "        [10, 80],\n",
    "        [0, 3.5]\n",
    "    ]\n",
    ")"
   ],
   "id": "6b4653d8aed05aaf",
   "outputs": [],
   "execution_count": null
  },
  {
   "metadata": {
    "ExecuteTime": {
     "end_time": "2024-10-21T10:25:50.788983Z",
     "start_time": "2024-10-21T10:25:16.218646Z"
    }
   },
   "cell_type": "code",
   "source": [
    "plot_compare_corner(\n",
    "    data_frame_generated=df_gandalf_flw_cut,\n",
    "    data_frame_true=df_balrog_flw_cut,\n",
    "    dict_delta=None,\n",
    "    epoch=None,\n",
    "    title=f\"Compare MCAL Measured Galaxy Properties Balrog-gaNdalF\",\n",
    "    columns=[\n",
    "        \"Color unsheared MAG r-i\",\n",
    "        \"Color unsheared MAG i-z\",\n",
    "        \"unsheared/mag_r\",\n",
    "        \"unsheared/mag_i\",\n",
    "        \"unsheared/mag_z\",\n",
    "        \"unsheared/snr\",\n",
    "        \"unsheared/size_ratio\",\n",
    "        \"unsheared/weight\",\n",
    "        \"unsheared/T\"\n",
    "    ],\n",
    "    labels=[\n",
    "        \"r-i\",\n",
    "        \"i-z\",\n",
    "        \"mag r\",\n",
    "        \"mag i\",\n",
    "        \"mag z\",\n",
    "        \"snr\",\n",
    "        \"size ratio\",\n",
    "        \"weight\",\n",
    "        \"T\"\n",
    "    ],\n",
    "    show_plot=False,\n",
    "    save_plot=True,\n",
    "    save_name=f\"{path_save_plots}/compare_mcal_measured_galaxy_properties_datapoints.png\",\n",
    "    ranges=[\n",
    "        [-0.5, 1.5],\n",
    "        [-0.5, 1.5],\n",
    "        [18, 24.5],\n",
    "        [18, 24.5],\n",
    "        [18, 24.5],\n",
    "        [2, 100],\n",
    "        [-0.5, 5],\n",
    "        [10, 80],\n",
    "        [0, 3.5]\n",
    "    ]\n",
    ")"
   ],
   "id": "13ea5a7d852adcf0",
   "outputs": [
    {
     "data": {
      "text/plain": [
       "(tensor([[[1., 1., 1.,  ..., 1., 1., 1.],\n",
       "          [1., 1., 1.,  ..., 1., 1., 1.],\n",
       "          [1., 1., 1.,  ..., 1., 1., 1.],\n",
       "          ...,\n",
       "          [1., 1., 1.,  ..., 1., 1., 1.],\n",
       "          [1., 1., 1.,  ..., 1., 1., 1.],\n",
       "          [1., 1., 1.,  ..., 1., 1., 1.]],\n",
       " \n",
       "         [[1., 1., 1.,  ..., 1., 1., 1.],\n",
       "          [1., 1., 1.,  ..., 1., 1., 1.],\n",
       "          [1., 1., 1.,  ..., 1., 1., 1.],\n",
       "          ...,\n",
       "          [1., 1., 1.,  ..., 1., 1., 1.],\n",
       "          [1., 1., 1.,  ..., 1., 1., 1.],\n",
       "          [1., 1., 1.,  ..., 1., 1., 1.]],\n",
       " \n",
       "         [[1., 1., 1.,  ..., 1., 1., 1.],\n",
       "          [1., 1., 1.,  ..., 1., 1., 1.],\n",
       "          [1., 1., 1.,  ..., 1., 1., 1.],\n",
       "          ...,\n",
       "          [1., 1., 1.,  ..., 1., 1., 1.],\n",
       "          [1., 1., 1.,  ..., 1., 1., 1.],\n",
       "          [1., 1., 1.,  ..., 1., 1., 1.]],\n",
       " \n",
       "         [[1., 1., 1.,  ..., 1., 1., 1.],\n",
       "          [1., 1., 1.,  ..., 1., 1., 1.],\n",
       "          [1., 1., 1.,  ..., 1., 1., 1.],\n",
       "          ...,\n",
       "          [1., 1., 1.,  ..., 1., 1., 1.],\n",
       "          [1., 1., 1.,  ..., 1., 1., 1.],\n",
       "          [1., 1., 1.,  ..., 1., 1., 1.]]], dtype=torch.float32),\n",
       " None)"
      ]
     },
     "execution_count": 19,
     "metadata": {},
     "output_type": "execute_result"
    }
   ],
   "execution_count": 19
  },
  {
   "cell_type": "code",
   "id": "471fc199-3b99-481f-8386-30a24976f720",
   "metadata": {
    "tags": [],
    "ExecuteTime": {
     "end_time": "2024-10-21T10:26:26.180308Z",
     "start_time": "2024-10-21T10:25:50.825921Z"
    }
   },
   "source": [
    "plot_balrog_histogram_with_error(\n",
    "    df_gandalf=df_gandalf_flw,\n",
    "    df_balrog=df_balrog_flw,\n",
    "    columns=[\n",
    "        \"unsheared/mag_r\",\n",
    "        \"unsheared/mag_i\",\n",
    "        \"unsheared/mag_z\",\n",
    "        \"Color unsheared MAG r-i\",\n",
    "        \"Color unsheared MAG i-z\",\n",
    "        \"unsheared/snr\",\n",
    "        \"unsheared/size_ratio\",\n",
    "        \"unsheared/weight\",\n",
    "        \"unsheared/T\"\n",
    "    ],\n",
    "    labels=[\n",
    "        \"mag r\",\n",
    "        \"mag i\",\n",
    "        \"mag z\",\n",
    "        \"mag r-i\",\n",
    "        \"mag i-z\",\n",
    "        \"snr\",\n",
    "        \"size ratio\",\n",
    "        \"weight\",\n",
    "        \"T\"\n",
    "    ],\n",
    "    ranges=[\n",
    "        [18, 24.5],  # mag r\n",
    "        [18, 24.5],  # mag i\n",
    "        [18, 24.5],  # mag z\n",
    "        [-0.5, 1.5],  # mag r-i\n",
    "        [-0.5, 1.5],  # mag i-z\n",
    "        [2, 100],  # snr\n",
    "        [-0.5, 5],  # size ratio\n",
    "        [10, 80],  # weight\n",
    "        [0, 3.5]  # T\n",
    "    ],\n",
    "    binwidths=[\n",
    "        None,  # mag r\n",
    "        None,  # mag i\n",
    "        None,  # mag z\n",
    "        0.08,  # mag r-i\n",
    "        0.08,  # mag i-z\n",
    "        2,  # snr\n",
    "        0.2,  # size ratio\n",
    "        2,  # weight\n",
    "        0.2  # T\n",
    "    ],\n",
    "    title=\"Compare Histogram\",\n",
    "    show_plot=False,\n",
    "    save_plot=True,\n",
    "    save_name=f\"{path_save_plots}/hist_plot.png\"\n",
    ")"
   ],
   "outputs": [],
   "execution_count": 20
  },
  {
   "metadata": {
    "ExecuteTime": {
     "end_time": "2024-10-21T10:26:51.647839Z",
     "start_time": "2024-10-21T10:26:26.197491Z"
    }
   },
   "cell_type": "code",
   "source": [
    "plot_balrog_histogram_with_error(\n",
    "    df_gandalf=df_gandalf_flw_cut,\n",
    "    df_balrog=df_balrog_flw_cut,\n",
    "    columns=[\n",
    "        \"unsheared/mag_r\",\n",
    "        \"unsheared/mag_i\",\n",
    "        \"unsheared/mag_z\",\n",
    "        \"Color unsheared MAG r-i\",\n",
    "        \"Color unsheared MAG i-z\",\n",
    "        \"unsheared/snr\",\n",
    "        \"unsheared/size_ratio\",\n",
    "        \"unsheared/weight\",\n",
    "        \"unsheared/T\"\n",
    "    ],\n",
    "    labels=[\n",
    "        \"mag r\",\n",
    "        \"mag i\",\n",
    "        \"mag z\",\n",
    "        \"mag r-i\",\n",
    "        \"mag i-z\",\n",
    "        \"snr\",\n",
    "        \"size ratio\",\n",
    "        \"weight\",\n",
    "        \"T\"\n",
    "    ],\n",
    "    ranges=[\n",
    "        [18, 24.5],  # mag r\n",
    "        [18, 24.5],  # mag i\n",
    "        [18, 24.5],  # mag z\n",
    "        [-0.5, 1.5],  # mag r-i\n",
    "        [-0.5, 1.5],  # mag i-z\n",
    "        [2, 100],  # snr\n",
    "        [-0.5, 5],  # size ratio\n",
    "        [10, 80],  # weight\n",
    "        [0, 3.5]  # T\n",
    "    ],\n",
    "    binwidths=[\n",
    "        None,  # mag r\n",
    "        None,  # mag i\n",
    "        None,  # mag z\n",
    "        0.08,  # mag r-i\n",
    "        0.08,  # mag i-z\n",
    "        2,  # snr\n",
    "        0.2,  # size ratio\n",
    "        2,  # weight\n",
    "        0.2  # T\n",
    "    ],\n",
    "    title=\"Compare MCAL Histogram\",\n",
    "    show_plot=False,\n",
    "    save_plot=True,\n",
    "    save_name=f\"{path_save_plots}/mcal_hist_plot.png\"\n",
    ")"
   ],
   "id": "64f5662c285f9806",
   "outputs": [],
   "execution_count": 21
  },
  {
   "metadata": {},
   "cell_type": "code",
   "outputs": [],
   "execution_count": null,
   "source": "",
   "id": "3078046390dc8b56"
  }
 ],
 "metadata": {
  "kernelspec": {
   "display_name": "Python 3 (ipykernel)",
   "language": "python",
   "name": "python3"
  },
  "language_info": {
   "codemirror_mode": {
    "name": "ipython",
    "version": 3
   },
   "file_extension": ".py",
   "mimetype": "text/x-python",
   "name": "python",
   "nbconvert_exporter": "python",
   "pygments_lexer": "ipython3",
   "version": "3.11.5"
  }
 },
 "nbformat": 4,
 "nbformat_minor": 5
}
